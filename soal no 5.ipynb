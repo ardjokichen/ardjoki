{
 "cells": [
  {
   "cell_type": "code",
   "execution_count": 4,
   "metadata": {},
   "outputs": [
    {
     "name": "stdout",
     "output_type": "stream",
     "text": [
      "SAYA JABAT TANGAN 1 ORANG\n",
      "SAYA JABAT TANGAN 2 ORANG\n",
      "SAYA JABAT TANGAN 3 ORANG\n",
      "SAYA JABAT TANGAN 4 ORANG\n",
      "SAYA JABAT TANGAN 5 ORANG\n"
     ]
    }
   ],
   "source": [
    "def handshake(jumlah):\n",
    "    n = 1\n",
    "    while n < jumlah :\n",
    "        print(\"SAYA JABAT TANGAN\",n,\"ORANG\")\n",
    "        n = n + 1\n",
    "        \n",
    "handshake(6)"
   ]
  },
  {
   "cell_type": "code",
   "execution_count": null,
   "metadata": {},
   "outputs": [],
   "source": []
  }
 ],
 "metadata": {
  "kernelspec": {
   "display_name": "Python 3",
   "language": "python",
   "name": "python3"
  },
  "language_info": {
   "codemirror_mode": {
    "name": "ipython",
    "version": 3
   },
   "file_extension": ".py",
   "mimetype": "text/x-python",
   "name": "python",
   "nbconvert_exporter": "python",
   "pygments_lexer": "ipython3",
   "version": "3.7.0"
  }
 },
 "nbformat": 4,
 "nbformat_minor": 2
}
