{
 "cells": [
  {
   "cell_type": "code",
   "execution_count": 19,
   "metadata": {},
   "outputs": [
    {
     "name": "stdout",
     "output_type": "stream",
     "text": [
      "* * * * * * *\n",
      "*      *    *\n",
      "*      *    *\n",
      "*      *    *\n",
      "*      *    *\n",
      "* * * * * * *\n",
      "*      *    *\n",
      "*      *    *\n",
      "*      *    *\n",
      "*      *    *\n",
      "* * * * * * *\n",
      "\n"
     ]
    }
   ],
   "source": [
    "def parameter (nama):\n",
    "    if nama == \"square\" or nama == \"kotak\":\n",
    "        print(\"* * * * * * *\\n*      *    *\\n*      *    *\\n*      *    *\\n*      *    *\\n* * * * * * *\\n*      *    *\\n*      *    *\\n*      *    *\\n*      *    *\\n* * * * * * *\\n\")\n",
    "    else:\n",
    "        print(\"salah masukkan nama\")\n",
    "               \n",
    "parameter(\"square\")           \n",
    "\n"
   ]
  },
  {
   "cell_type": "code",
   "execution_count": null,
   "metadata": {},
   "outputs": [],
   "source": []
  }
 ],
 "metadata": {
  "kernelspec": {
   "display_name": "Python 3",
   "language": "python",
   "name": "python3"
  },
  "language_info": {
   "codemirror_mode": {
    "name": "ipython",
    "version": 3
   },
   "file_extension": ".py",
   "mimetype": "text/x-python",
   "name": "python",
   "nbconvert_exporter": "python",
   "pygments_lexer": "ipython3",
   "version": "3.7.0"
  }
 },
 "nbformat": 4,
 "nbformat_minor": 2
}
