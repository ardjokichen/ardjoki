{
 "cells": [
  {
   "cell_type": "code",
   "execution_count": 1,
   "metadata": {},
   "outputs": [
    {
     "name": "stdout",
     "output_type": "stream",
     "text": [
      "ID harus terdiri dari huruf kecil dan underscore. Dengan pangjang 8 karakter\n",
      "password terverifikasi\n"
     ]
    }
   ],
   "source": [
    "import re \n",
    "def is_username_valid(id):\n",
    "    urutan = 0\n",
    "    while True:   \n",
    "        if ( len (id) <8 ): \n",
    "            urutan = -1\n",
    "            break\n",
    "        elif not re.search(\"[a-z]\", id): \n",
    "            urutan = -1\n",
    "            break\n",
    "        elif not re.search(\"[A-Z]\", id): \n",
    "            urutan = -1\n",
    "            break\n",
    "        elif not re.search(\"[0-9]\", id): \n",
    "            urutan = -1\n",
    "            break\n",
    "        elif not re.search(\"[_@$]\", id): \n",
    "            urutan = -1\n",
    "            break\n",
    "        elif re.search(\"\\s\", id): \n",
    "            urutan = -1\n",
    "            break\n",
    "        else: \n",
    "            urutan= 0\n",
    "            print(\"ID Terverifikasi\") \n",
    "            break\n",
    "\n",
    "    if urutan ==-1: \n",
    "        print(\"ID harus terdiri dari huruf kecil dan underscore. Dengan pangjang 8 karakter\") \n",
    "\n",
    "\n",
    "\n",
    "def is_password_valid(password):\n",
    "    urutan = 0\n",
    "    while True:   \n",
    "        if ( len (password) <8): \n",
    "            urutan = -1\n",
    "            break\n",
    "        elif not re.search(\"[a-z]\", password): \n",
    "            urutan = -1\n",
    "            break\n",
    "        elif not re.search(\"[A-Z]\", password): \n",
    "            urutan = -1\n",
    "            break\n",
    "        elif not re.search(\"[0-9]\", password): \n",
    "            urutan = -1\n",
    "            break\n",
    "        elif not re.search(\"[_@$]\", password): \n",
    "            urutan = -1\n",
    "            break\n",
    "        elif re.search(\"\\s\", password): \n",
    "            urutan = -1\n",
    "            break\n",
    "        else: \n",
    "            urutan= 0\n",
    "            print(\"password terverifikasi\") \n",
    "            break\n",
    "  \n",
    "    if urutan ==-1: \n",
    "            print(\"password harus terdiri dari huruf kecil dan underscore. Dengan pangjang 8 karakter\") \n",
    "\n",
    "is_username_valid(\"Bbabbb\")\n",
    "is_password_valid(\"Baby16_Boss\")\n"
   ]
  },
  {
   "cell_type": "code",
   "execution_count": null,
   "metadata": {},
   "outputs": [],
   "source": []
  }
 ],
 "metadata": {
  "kernelspec": {
   "display_name": "Python 3",
   "language": "python",
   "name": "python3"
  },
  "language_info": {
   "codemirror_mode": {
    "name": "ipython",
    "version": 3
   },
   "file_extension": ".py",
   "mimetype": "text/x-python",
   "name": "python",
   "nbconvert_exporter": "python",
   "pygments_lexer": "ipython3",
   "version": "3.7.0"
  }
 },
 "nbformat": 4,
 "nbformat_minor": 2
}
