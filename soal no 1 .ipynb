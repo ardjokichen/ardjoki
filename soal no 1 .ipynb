{
 "cells": [
  {
   "cell_type": "code",
   "execution_count": 1,
   "metadata": {},
   "outputs": [
    {
     "name": "stdout",
     "output_type": "stream",
     "text": [
      "False\n"
     ]
    }
   ],
   "source": [
    "nama = {\n",
    "    \"nama\": \"Ardjoki\"\n",
    "}\n",
    "address = {\n",
    "    \"address\":\"Jalan Tanjung Uban no 5-6 KM 11\"\n",
    "}\n",
    "hobi = {\n",
    "    \"hobi\":[\"main game\" , \"baca manga\" , \"nonton anime\"]\n",
    "}    \n",
    "\n",
    "is_married = {\n",
    "    \"is_married\" :\"False\"\n",
    "}\n",
    "school = {\n",
    "    \"highschool\" : \"SMK NEGERI 1 TANJUNG PINANG\",\n",
    "    \"university\" : \"Universitas  Tidak ada\"\n",
    "}\n",
    "\n",
    "keahlian = {\n",
    "    \"skill\" : [\"pyhton\", \"html\" , \"css\" ]\n",
    "}\n",
    "        \n",
    "\n",
    "nama = (nama[\"nama\"])\n",
    "alamat = (address[\"address\"])\n",
    "hobi = (hobi[\"hobi\"])\n",
    "is_married = (is_married[\"is_married\"])\n",
    "highschool = (school[\"highschool\"])\n",
    "university = (school[\"university\"])\n",
    "skill = (keahlian[\"skill\"])\n",
    "skill_1 = (keahlian[\"skill\"][0])\n",
    "skill_2 = (keahlian[\"skill\"][1])\n",
    "skill_3 = (keahlian[\"skill\"][2])\n",
    "\n",
    "    \n",
    "print(is_married)"
   ]
  },
  {
   "cell_type": "code",
   "execution_count": null,
   "metadata": {},
   "outputs": [],
   "source": []
  }
 ],
 "metadata": {
  "kernelspec": {
   "display_name": "Python 3",
   "language": "python",
   "name": "python3"
  },
  "language_info": {
   "codemirror_mode": {
    "name": "ipython",
    "version": 3
   },
   "file_extension": ".py",
   "mimetype": "text/x-python",
   "name": "python",
   "nbconvert_exporter": "python",
   "pygments_lexer": "ipython3",
   "version": "3.7.0"
  }
 },
 "nbformat": 4,
 "nbformat_minor": 2
}
